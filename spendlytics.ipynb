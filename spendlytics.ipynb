# 💼 Spendlytics: Smart Insights from Churn and Expense Data

# ✅ Import Libraries
import pandas as pd
import matplotlib.pyplot as plt
import seaborn as sns
import sqlite3
from sklearn.model_selection import train_test_split
from sklearn.linear_model import LogisticRegression
from sklearn.tree import DecisionTreeClassifier
from sklearn.metrics import classification_report, confusion_matrix
from sklearn.cluster import KMeans
import warnings
warnings.filterwarnings('ignore')
#🔍 Customer Churn Prediction Module
# Load Churn Data
churn_df = pd.read_csv("data/churn_data.csv")
churn_df.head()
# Prepare Features and Labels
X = churn_df[['Age', 'Tenure', 'Balance']]
y = churn_df['Exited']

# Train-Test Split
X_train, X_test, y_train, y_test = train_test_split(X, y, test_size=0.3, random_state=42)
# Logistic Regression
lr_model = LogisticRegression()
lr_model.fit(X_train, y_train)
lr_pred = lr_model.predict(X_test)

print("🔍 Logistic Regression Classification Report:")
print(classification_report(y_test, lr_pred))
# Decision Tree Classifier
dt_model = DecisionTreeClassifier()
dt_model.fit(X_train, y_train)
dt_pred = dt_model.predict(X_test)

print("🌳 Decision Tree Classification Report:")
print(classification_report(y_test, dt_pred))
# 💰 Personal Expense Tracker with SQL and Clustering python
# Load Expense Data
expense_df = pd.read_csv("data/expense_data.csv")
expense_df.head()
# Create In-Memory SQL Database
conn = sqlite3.connect(":memory:")
expense_df.to_sql("expenses", conn, index=False, if_exists="replace")

# Query: Total Spending by Category
query = "SELECT Category, SUM(Amount) as Total FROM expenses GROUP BY Category"
category_spending = pd.read_sql(query, conn)
category_spending
# 📊 Visualize Category Spending
plt.figure(figsize=(8,5))
sns.barplot(x='Category', y='Total', data=category_spending)
plt.title("Total Spending by Category")
plt.xticks(rotation=45)
plt.tight_layout()
plt.show()
# 🧠 Clustering Users by Spending
user_spending = expense_df.groupby('UserID')['Amount'].sum().reset_index()
user_spending.columns = ['UserID', 'TotalSpending']

# K-Means Clustering
kmeans = KMeans(n_clusters=3)
user_spending['Cluster'] = kmeans.fit_predict(user_spending[['TotalSpending']])

# 📈 Visualize Clusters
sns.scatterplot(x='UserID', y='TotalSpending', hue='Cluster', data=user_spending, palette='Set2')
plt.title("User Clusters by Total Spending")
plt.show()







